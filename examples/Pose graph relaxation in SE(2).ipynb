{
 "cells": [
  {
   "cell_type": "code",
   "execution_count": 1,
   "metadata": {},
   "outputs": [],
   "source": [
    "%matplotlib inline\n",
    "\n",
    "import numpy as np\n",
    "import matplotlib.pyplot as plt"
   ]
  },
  {
   "cell_type": "markdown",
   "metadata": {},
   "source": [
    "# Create data"
   ]
  },
  {
   "cell_type": "code",
   "execution_count": 2,
   "metadata": {},
   "outputs": [],
   "source": [
    "import copy\n",
    "from liegroups import SE2, SO2\n",
    "\n",
    "params_true = {'T_1_0': SE2.identity(),\n",
    "               'T_2_0': SE2(SO2.identity(), -np.array([0.5, 0])),\n",
    "               'T_3_0': SE2(SO2.identity(), -np.array([1, 0])),\n",
    "               'T_4_0': SE2(SO2.from_angle(np.pi / 2),\n",
    "                             -(SO2.from_angle(np.pi / 2).dot(np.array([1, 0.5])))),\n",
    "               'T_5_0': SE2(SO2.from_angle(np.pi),\n",
    "                             -(SO2.from_angle(np.pi).dot(np.array([0.5, 0.5])))),\n",
    "               'T_6_0': SE2(SO2.from_angle(-np.pi / 2),\n",
    "                             -(SO2.from_angle(-np.pi / 2).dot(np.array([0.5, 0]))))}\n",
    "\n",
    "# observation: relative pose between poses\n",
    "obs = {'T_1_0': params_true['T_1_0'],\n",
    "       'T_2_1': params_true['T_2_0'].dot(params_true['T_1_0'].inv()),\n",
    "       'T_3_2': params_true['T_3_0'].dot(params_true['T_2_0'].inv()),\n",
    "       'T_4_3': params_true['T_4_0'].dot(params_true['T_3_0'].inv()),\n",
    "       'T_5_4': params_true['T_5_0'].dot(params_true['T_4_0'].inv()),\n",
    "       'T_6_5': params_true['T_6_0'].dot(params_true['T_5_0'].inv()),\n",
    "       'T_6_2': params_true['T_6_0'].dot(params_true['T_2_0'].inv())}\n",
    "\n",
    "# parans_init直接设为 SE3.exp(np.random.rand(3))是否可以?\n",
    "params_init = copy.deepcopy(params_true)\n",
    "for key in params_init.keys():\n",
    "    params_init[key] = SE2.exp(5 * np.random.rand(3)).dot(params_init[key])"
   ]
  },
  {
   "cell_type": "markdown",
   "metadata": {},
   "source": [
    "# Create residual functions"
   ]
  },
  {
   "cell_type": "code",
   "execution_count": 3,
   "metadata": {},
   "outputs": [],
   "source": [
    "from pyslam.residuals import PoseResidual, PoseToPoseResidual\n",
    "from pyslam.utils import invsqrt\n",
    "\n",
    "# Q: stiffness的值是如何设定的?\n",
    "prior_stiffness = invsqrt(1e-12 * np.identity(3))\n",
    "odom_stiffness = invsqrt(1e-3 * np.identity(3))\n",
    "loop_stiffness = invsqrt(1e-3 * np.identity(3))\n",
    "\n",
    "residual0 = PoseResidual(obs['T_1_0'], prior_stiffness)\n",
    "residual0_params = ['T_1_0']\n",
    "\n",
    "residual1 = PoseToPoseResidual(obs['T_2_1'], odom_stiffness)\n",
    "residual1_params = ['T_1_0', 'T_2_0']\n",
    "\n",
    "residual2 = PoseToPoseResidual(obs['T_3_2'], odom_stiffness)\n",
    "residual2_params = ['T_2_0', 'T_3_0']\n",
    "\n",
    "residual3 = PoseToPoseResidual(obs['T_4_3'], odom_stiffness)\n",
    "residual3_params = ['T_3_0', 'T_4_0']\n",
    "\n",
    "residual4 = PoseToPoseResidual(obs['T_5_4'], odom_stiffness)\n",
    "residual4_params = ['T_4_0', 'T_5_0']\n",
    "\n",
    "residual5 = PoseToPoseResidual(obs['T_6_5'], odom_stiffness)\n",
    "residual5_params = ['T_5_0', 'T_6_0']\n",
    "\n",
    "# loop closure\n",
    "residual6 = PoseToPoseResidual(obs['T_6_2'], loop_stiffness)\n",
    "residual6_params = ['T_2_0', 'T_6_0']"
   ]
  },
  {
   "cell_type": "code",
   "execution_count": 5,
   "metadata": {},
   "outputs": [
    {
     "data": {
      "text/plain": [
       "(array([[1000000.,       0.,       0.],\n",
       "        [      0., 1000000.,       0.],\n",
       "        [      0.,       0., 1000000.]]),\n",
       " array([[31.6227766,  0.       ,  0.       ],\n",
       "        [ 0.       , 31.6227766,  0.       ],\n",
       "        [ 0.       ,  0.       , 31.6227766]]),\n",
       " array([[31.6227766,  0.       ,  0.       ],\n",
       "        [ 0.       , 31.6227766,  0.       ],\n",
       "        [ 0.       ,  0.       , 31.6227766]]))"
      ]
     },
     "execution_count": 5,
     "metadata": {},
     "output_type": "execute_result"
    }
   ],
   "source": [
    "prior_stiffness, odom_stiffness, loop_stiffness"
   ]
  },
  {
   "cell_type": "markdown",
   "metadata": {},
   "source": [
    "# Set up and solve the problem"
   ]
  },
  {
   "cell_type": "code",
   "execution_count": 6,
   "metadata": {},
   "outputs": [
    {
     "name": "stdout",
     "output_type": "stream",
     "text": [
      " Iter | Initial cost -->   Final cost | Rel change\n",
      "---------------------------------------------------\n",
      "    0 | 6.606496e+12 --> 9.532377e+04 |  -1.000000\n",
      "    1 | 9.532377e+04 --> 2.505429e-23 |  -1.000000\n",
      "\n"
     ]
    }
   ],
   "source": [
    "from pyslam.problem import Problem, Options\n",
    "\n",
    "options = Options()\n",
    "options.allow_nondecreasing_steps = True\n",
    "options.max_nondecreasing_steps = 3\n",
    "\n",
    "problem = Problem(options)\n",
    "\n",
    "problem.add_residual_block(residual0, residual0_params)\n",
    "problem.add_residual_block(residual1, residual1_params)\n",
    "problem.add_residual_block(residual2, residual2_params)\n",
    "problem.add_residual_block(residual3, residual3_params)\n",
    "problem.add_residual_block(residual4, residual4_params)\n",
    "problem.add_residual_block(residual5, residual5_params)\n",
    "# problem.add_residual_block(residual6, residual6_params)\n",
    "\n",
    "problem.initialize_params(params_init)\n",
    "\n",
    "params_final = problem.solve()\n",
    "print(problem.summary(format='full'))"
   ]
  },
  {
   "cell_type": "markdown",
   "metadata": {},
   "source": [
    "# Check results"
   ]
  },
  {
   "cell_type": "code",
   "execution_count": 7,
   "metadata": {},
   "outputs": [
    {
     "name": "stdout",
     "output_type": "stream",
     "text": [
      "Initial Error:\n",
      "T_1_0: [-2.74750539 -0.11280802 -2.37728413]\n",
      "T_2_0: [ 0.79095551 -0.18835619  2.01045808]\n",
      "T_3_0: [1.04526652 0.40307472 2.34758801]\n",
      "T_4_0: [-4.55587979  5.44361476 -1.74972239]\n",
      "T_5_0: [-0.76427681 -2.37838095  2.78393503]\n",
      "T_6_0: [ 0.70271386 -3.26183532 -1.08983471]\n",
      "\n",
      "Final Error:\n",
      "T_1_0: [-8.27180810e-25  4.93038066e-31  0.00000000e+00]\n",
      "T_2_0: [-7.77156117e-16  6.66133815e-16  1.11022302e-16]\n",
      "T_3_0: [-1.88737914e-15  4.44089210e-15 -5.92670972e-16]\n",
      "T_4_0: [ 1.59872116e-14 -1.14908083e-14  1.39580076e-16]\n",
      "T_5_0: [-3.78030940e-14  1.03916875e-13  3.36086006e-15]\n",
      "T_6_0: [-1.11022302e-13  2.69531534e-13  3.36086006e-15]\n"
     ]
    }
   ],
   "source": [
    "print(\"Initial Error:\")\n",
    "for key in params_true.keys():\n",
    "    print('{}: {}'.format(key, SE2.log(params_init[key].inv().dot(params_true[key]))))\n",
    "\n",
    "print()\n",
    "\n",
    "print(\"Final Error:\")\n",
    "for key in params_true.keys():\n",
    "    print('{}: {}'.format(key, SE2.log(params_final[key].inv().dot(params_true[key]))))"
   ]
  },
  {
   "cell_type": "markdown",
   "metadata": {},
   "source": [
    "# Optional: Compute the covariance of the final parameter estimates"
   ]
  },
  {
   "cell_type": "code",
   "execution_count": 8,
   "metadata": {},
   "outputs": [
    {
     "name": "stdout",
     "output_type": "stream",
     "text": [
      "covariance of T_5_0:\n",
      "[[0.0045  0.00025 0.001  ]\n",
      " [0.00025 0.0045  0.001  ]\n",
      " [0.001   0.001   0.004  ]]\n"
     ]
    }
   ],
   "source": [
    "problem.compute_covariance()\n",
    "print('covariance of T_5_0:\\n{}'.format( problem.get_covariance_block('T_5_0','T_5_0') ))"
   ]
  },
  {
   "cell_type": "code",
   "execution_count": null,
   "metadata": {},
   "outputs": [],
   "source": []
  }
 ],
 "metadata": {
  "kernelspec": {
   "display_name": "Python 3",
   "language": "python",
   "name": "python3"
  },
  "language_info": {
   "codemirror_mode": {
    "name": "ipython",
    "version": 3
   },
   "file_extension": ".py",
   "mimetype": "text/x-python",
   "name": "python",
   "nbconvert_exporter": "python",
   "pygments_lexer": "ipython3",
   "version": "3.7.6"
  }
 },
 "nbformat": 4,
 "nbformat_minor": 2
}
